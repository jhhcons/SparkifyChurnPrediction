{
 "cells": [
  {
   "cell_type": "markdown",
   "metadata": {},
   "source": [
    "# Sparkify POC Project Workspace\n",
    "In this workspace, a tiny subset (128 MB) of the full sparkify dataset is Explored.\n",
    "\n",
    "The main purpose of this workspace is to setup a working Spark flow, which can be used on a AWS cluster which will analyse the full dataset. In the process, the following steps will be walked through:\n",
    "\n",
    "- Load Libaries and the Mini Dataset into a local Spark session\n",
    "- Clean Dataset\n",
    "-  Set up a working Spark flow which can be used on the la\n"
   ]
  },
  {
   "cell_type": "markdown",
   "metadata": {},
   "source": [
    "# Load Libaries and Data"
   ]
  },
  {
   "cell_type": "code",
   "execution_count": 26,
   "metadata": {},
   "outputs": [],
   "source": [
    "# import libraries\n",
    "from pyspark.sql import SparkSession\n",
    "from pyspark.sql.functions import avg, col, concat, desc, explode, lit, min, max, split, udf\n",
    "from pyspark.sql.types import IntegerType\n",
    "\n",
    "from pyspark.ml import Pipeline\n",
    "from pyspark.ml.evaluation import MulticlassClassificationEvaluator\n",
    "from pyspark.ml.feature import StringIndexer, VectorAssembler\n",
    "from pyspark.ml.tuning import CrossValidator, ParamGridBuilder\n",
    "\n",
    "from pyspark.ml.feature import MinMaxScaler\n",
    "from pyspark.ml.classification import LogisticRegression, RandomForestClassifier, LinearSVC, GBTClassifier\n",
    "from sklearn.metrics import confusion_matrix\n",
    "\n",
    "from pyspark.sql import Window\n",
    "from pyspark.sql.functions import sum as Fsum\n",
    "\n",
    "import pandas as pd\n",
    "\n",
    "import re"
   ]
  },
  {
   "cell_type": "code",
   "execution_count": 6,
   "metadata": {},
   "outputs": [
    {
     "name": "stdout",
     "output_type": "stream",
     "text": [
      "root\n",
      " |-- artist: string (nullable = true)\n",
      " |-- auth: string (nullable = true)\n",
      " |-- firstName: string (nullable = true)\n",
      " |-- gender: string (nullable = true)\n",
      " |-- itemInSession: long (nullable = true)\n",
      " |-- lastName: string (nullable = true)\n",
      " |-- length: double (nullable = true)\n",
      " |-- level: string (nullable = true)\n",
      " |-- location: string (nullable = true)\n",
      " |-- method: string (nullable = true)\n",
      " |-- page: string (nullable = true)\n",
      " |-- registration: long (nullable = true)\n",
      " |-- sessionId: long (nullable = true)\n",
      " |-- song: string (nullable = true)\n",
      " |-- status: long (nullable = true)\n",
      " |-- ts: long (nullable = true)\n",
      " |-- userAgent: string (nullable = true)\n",
      " |-- userId: string (nullable = true)\n",
      "\n"
     ]
    }
   ],
   "source": [
    "# create a Spark session\n",
    "spark = SparkSession.builder \\\n",
    "    .master(\"local\") \\\n",
    "    .appName(\"Creating Features\") \\\n",
    "    .getOrCreate()\n",
    "\n",
    "df = spark.read.json('mini_sparkify_event_data.json')\n",
    "\n",
    "# Print schema for furture reference\n",
    "df.printSchema()"
   ]
  },
  {
   "cell_type": "code",
   "execution_count": 7,
   "metadata": {},
   "outputs": [
    {
     "data": {
      "text/plain": [
       "Row(artist='Martha Tilston', auth='Logged In', firstName='Colin', gender='M', itemInSession=50, lastName='Freeman', length=277.89016, level='paid', location='Bakersfield, CA', method='PUT', page='NextSong', registration=1538173362000, sessionId=29, song='Rockpools', status=200, ts=1538352117000, userAgent='Mozilla/5.0 (Windows NT 6.1; WOW64; rv:31.0) Gecko/20100101 Firefox/31.0', userId='30')"
      ]
     },
     "execution_count": 7,
     "metadata": {},
     "output_type": "execute_result"
    }
   ],
   "source": [
    "# Print first row for reference\n",
    "df.head()"
   ]
  },
  {
   "cell_type": "markdown",
   "metadata": {},
   "source": [
    "# Clean Dataset\n",
    "\n",
    "The sessiosId and userId columns are cleaned if necessary"
   ]
  },
  {
   "cell_type": "code",
   "execution_count": 8,
   "metadata": {},
   "outputs": [
    {
     "name": "stdout",
     "output_type": "stream",
     "text": [
      "Null userIds: 0\n",
      "Empty userIds: 8346\n",
      "Null sessionIds: 0\n",
      "Empty sessionIds: 0\n"
     ]
    }
   ],
   "source": [
    "# Explore any null or empty string values in UserId and SessionId\n",
    "print(f\"Null userIds: {df.filter(df.userId.isNull()).count()}\")\n",
    "print(f\"Empty userIds: {df.filter(df.userId == '').count()}\")\n",
    "print(f\"Null sessionIds: {df.filter(df.sessionId.isNull()).count()}\")\n",
    "print(f\"Empty sessionIds: {df.filter(df.sessionId == '').count()}\")"
   ]
  },
  {
   "cell_type": "code",
   "execution_count": 9,
   "metadata": {},
   "outputs": [
    {
     "name": "stdout",
     "output_type": "stream",
     "text": [
      "Empty userIds: 0\n"
     ]
    }
   ],
   "source": [
    "# Clean, and ensure clean worked\n",
    "df = df.filter(df.userId != \"\")\n",
    "print(f\"Empty userIds: {df.filter(df.userId == '').count()}\")"
   ]
  },
  {
   "cell_type": "markdown",
   "metadata": {},
   "source": [
    "# Exploratory Data Analysis\n",
    "\n",
    "To gain an understanding of the data, EDA is performed.\n",
    "\n",
    "The exploration consists of:\n",
    "- Preliminary analysis\n",
    "- Define Churn\n",
    "- Explore Data\n",
    "- Conclusion"
   ]
  },
  {
   "cell_type": "markdown",
   "metadata": {},
   "source": [
    "## Preliminary analysis"
   ]
  },
  {
   "cell_type": "code",
   "execution_count": 11,
   "metadata": {},
   "outputs": [
    {
     "name": "stdout",
     "output_type": "stream",
     "text": [
      "root\n",
      " |-- artist: string (nullable = true)\n",
      " |-- auth: string (nullable = true)\n",
      " |-- firstName: string (nullable = true)\n",
      " |-- gender: string (nullable = true)\n",
      " |-- itemInSession: long (nullable = true)\n",
      " |-- lastName: string (nullable = true)\n",
      " |-- length: double (nullable = true)\n",
      " |-- level: string (nullable = true)\n",
      " |-- location: string (nullable = true)\n",
      " |-- method: string (nullable = true)\n",
      " |-- page: string (nullable = true)\n",
      " |-- registration: long (nullable = true)\n",
      " |-- sessionId: long (nullable = true)\n",
      " |-- song: string (nullable = true)\n",
      " |-- status: long (nullable = true)\n",
      " |-- ts: long (nullable = true)\n",
      " |-- userAgent: string (nullable = true)\n",
      " |-- userId: string (nullable = true)\n",
      "\n"
     ]
    }
   ],
   "source": [
    "# Look at the schema\n",
    "df.printSchema()"
   ]
  },
  {
   "cell_type": "code",
   "execution_count": 12,
   "metadata": {},
   "outputs": [
    {
     "data": {
      "text/plain": [
       "[Row(artist='Martha Tilston', auth='Logged In', firstName='Colin', gender='M', itemInSession=50, lastName='Freeman', length=277.89016, level='paid', location='Bakersfield, CA', method='PUT', page='NextSong', registration=1538173362000, sessionId=29, song='Rockpools', status=200, ts=1538352117000, userAgent='Mozilla/5.0 (Windows NT 6.1; WOW64; rv:31.0) Gecko/20100101 Firefox/31.0', userId='30'),\n",
       " Row(artist='Five Iron Frenzy', auth='Logged In', firstName='Micah', gender='M', itemInSession=79, lastName='Long', length=236.09424, level='free', location='Boston-Cambridge-Newton, MA-NH', method='PUT', page='NextSong', registration=1538331630000, sessionId=8, song='Canada', status=200, ts=1538352180000, userAgent='\"Mozilla/5.0 (Windows NT 6.1; WOW64) AppleWebKit/537.36 (KHTML, like Gecko) Chrome/37.0.2062.103 Safari/537.36\"', userId='9')]"
      ]
     },
     "execution_count": 12,
     "metadata": {},
     "output_type": "execute_result"
    }
   ],
   "source": [
    "# Look at examle data\n",
    "df.take(2)"
   ]
  },
  {
   "cell_type": "code",
   "execution_count": 10,
   "metadata": {},
   "outputs": [
    {
     "data": {
      "text/plain": [
       "(278154, 18)"
      ]
     },
     "execution_count": 10,
     "metadata": {},
     "output_type": "execute_result"
    }
   ],
   "source": [
    "# Get data dimensions\n",
    "df.count(), len(df.columns)"
   ]
  },
  {
   "cell_type": "code",
   "execution_count": 12,
   "metadata": {},
   "outputs": [
    {
     "data": {
      "text/plain": [
       "225"
      ]
     },
     "execution_count": 12,
     "metadata": {},
     "output_type": "execute_result"
    }
   ],
   "source": [
    "# Get Amount of users the data is connected to\n",
    "df.select(\"userId\").dropDuplicates().count()"
   ]
  },
  {
   "cell_type": "code",
   "execution_count": 13,
   "metadata": {},
   "outputs": [
    {
     "data": {
      "text/plain": [
       "2312"
      ]
     },
     "execution_count": 13,
     "metadata": {},
     "output_type": "execute_result"
    }
   ],
   "source": [
    "# Get Amount of sessions the data is connected to\n",
    "df.select(\"sessionId\").dropDuplicates().count()"
   ]
  },
  {
   "cell_type": "markdown",
   "metadata": {},
   "source": [
    "## Define Churn\n",
    "To gain some knowledge of what might make good features later, a Churn column is created, based on the 'Cancellation Confirmation' event. The 'Downgrade' event will be ignored in this specific assigment."
   ]
  },
  {
   "cell_type": "code",
   "execution_count": 15,
   "metadata": {},
   "outputs": [],
   "source": [
    "# define udf for flagging chunr\n",
    "flag_churn_event = udf(lambda x: 1 if x == \"Cancellation Confirmation\" else 0, IntegerType())\n",
    "\n",
    "# define window partitioned by user, to mark all are churned users event with churn = 1\n",
    "windowval = Window.partitionBy(\"userId\").rangeBetween(Window.unboundedPreceding, Window.unboundedFollowing)\n",
    "\n",
    "df = df.withColumn(\"Churn\", flag_churn_event(\"page\"))\n",
    "df = df.withColumn(\"Churn\", Fsum(\"Churn\").over(windowval))"
   ]
  },
  {
   "cell_type": "code",
   "execution_count": 17,
   "metadata": {},
   "outputs": [
    {
     "data": {
      "text/plain": [
       "[Row(Churn=0, count=173), Row(Churn=1, count=52)]"
      ]
     },
     "execution_count": 17,
     "metadata": {},
     "output_type": "execute_result"
    }
   ],
   "source": [
    "# Get distribution of churned and non-churned users\n",
    "df.select([\"Churn\", \"userId\"]).dropDuplicates().groupby([\"Churn\"]).count().collect()"
   ]
  },
  {
   "cell_type": "markdown",
   "metadata": {},
   "source": [
    "## Explore Data\n",
    "Once you've defined churn, perform some exploratory data analysis to observe the behavior for users who stayed vs users who churned. You can start by exploring aggregates on these two groups of users, observing how much of a specific action they experienced per a certain time unit or number of songs played."
   ]
  },
  {
   "cell_type": "code",
   "execution_count": 18,
   "metadata": {},
   "outputs": [
    {
     "data": {
      "text/plain": [
       "Row(userId='200002', About=3, Add Friend=4, Add to Playlist=8, Cancel=0, Cancellation Confirmation=0, Downgrade=5, Error=0, Help=2, Home=20, Logout=5, NextSong=387, Roll Advert=7, Save Settings=0, Settings=3, Submit Downgrade=0, Submit Upgrade=1, Thumbs Down=6, Thumbs Up=21, Upgrade=2)"
      ]
     },
     "execution_count": 18,
     "metadata": {},
     "output_type": "execute_result"
    }
   ],
   "source": [
    "# Construct pivot with count of all events, for all users\n",
    "eventPivot = df.groupby([\"userId\"]).pivot(\"page\").count().fillna(0)\n",
    "eventPivot.head()"
   ]
  },
  {
   "cell_type": "code",
   "execution_count": 28,
   "metadata": {},
   "outputs": [],
   "source": [
    "pd.set_option(\"display.max_columns\",25)"
   ]
  },
  {
   "cell_type": "code",
   "execution_count": 31,
   "metadata": {},
   "outputs": [],
   "source": [
    "pandasPivot = eventPivot.toPandas()"
   ]
  },
  {
   "cell_type": "code",
   "execution_count": 35,
   "metadata": {},
   "outputs": [
    {
     "data": {
      "text/html": [
       "<div>\n",
       "<style>\n",
       "    .dataframe thead tr:only-child th {\n",
       "        text-align: right;\n",
       "    }\n",
       "\n",
       "    .dataframe thead th {\n",
       "        text-align: left;\n",
       "    }\n",
       "\n",
       "    .dataframe tbody tr th {\n",
       "        vertical-align: top;\n",
       "    }\n",
       "</style>\n",
       "<table border=\"1\" class=\"dataframe\">\n",
       "  <thead>\n",
       "    <tr style=\"text-align: right;\">\n",
       "      <th></th>\n",
       "      <th>About</th>\n",
       "      <th>Add Friend</th>\n",
       "      <th>Add to Playlist</th>\n",
       "      <th>Cancel</th>\n",
       "      <th>Cancellation Confirmation</th>\n",
       "      <th>Downgrade</th>\n",
       "      <th>Error</th>\n",
       "      <th>Help</th>\n",
       "      <th>Home</th>\n",
       "      <th>Logout</th>\n",
       "      <th>NextSong</th>\n",
       "      <th>Roll Advert</th>\n",
       "      <th>Save Settings</th>\n",
       "      <th>Settings</th>\n",
       "      <th>Submit Downgrade</th>\n",
       "      <th>Submit Upgrade</th>\n",
       "      <th>Thumbs Down</th>\n",
       "      <th>Thumbs Up</th>\n",
       "      <th>Upgrade</th>\n",
       "    </tr>\n",
       "  </thead>\n",
       "  <tbody>\n",
       "    <tr>\n",
       "      <th>count</th>\n",
       "      <td>52.000000</td>\n",
       "      <td>52.000000</td>\n",
       "      <td>52.000000</td>\n",
       "      <td>52.0</td>\n",
       "      <td>52.0</td>\n",
       "      <td>52.000000</td>\n",
       "      <td>52.000000</td>\n",
       "      <td>52.000000</td>\n",
       "      <td>52.000000</td>\n",
       "      <td>52.000000</td>\n",
       "      <td>52.000000</td>\n",
       "      <td>52.000000</td>\n",
       "      <td>52.000000</td>\n",
       "      <td>52.000000</td>\n",
       "      <td>52.000000</td>\n",
       "      <td>52.000000</td>\n",
       "      <td>52.000000</td>\n",
       "      <td>52.000000</td>\n",
       "      <td>52.000000</td>\n",
       "    </tr>\n",
       "    <tr>\n",
       "      <th>mean</th>\n",
       "      <td>1.076923</td>\n",
       "      <td>12.230769</td>\n",
       "      <td>19.961538</td>\n",
       "      <td>1.0</td>\n",
       "      <td>1.0</td>\n",
       "      <td>6.480769</td>\n",
       "      <td>0.615385</td>\n",
       "      <td>4.596154</td>\n",
       "      <td>32.153846</td>\n",
       "      <td>10.634615</td>\n",
       "      <td>699.884615</td>\n",
       "      <td>18.596154</td>\n",
       "      <td>1.115385</td>\n",
       "      <td>5.192308</td>\n",
       "      <td>0.173077</td>\n",
       "      <td>0.615385</td>\n",
       "      <td>9.538462</td>\n",
       "      <td>35.750000</td>\n",
       "      <td>2.153846</td>\n",
       "    </tr>\n",
       "    <tr>\n",
       "      <th>std</th>\n",
       "      <td>1.218262</td>\n",
       "      <td>11.157720</td>\n",
       "      <td>21.166901</td>\n",
       "      <td>0.0</td>\n",
       "      <td>0.0</td>\n",
       "      <td>8.206861</td>\n",
       "      <td>0.843751</td>\n",
       "      <td>5.259015</td>\n",
       "      <td>29.368106</td>\n",
       "      <td>9.511662</td>\n",
       "      <td>714.737650</td>\n",
       "      <td>21.799676</td>\n",
       "      <td>1.231193</td>\n",
       "      <td>4.723900</td>\n",
       "      <td>0.382005</td>\n",
       "      <td>0.599145</td>\n",
       "      <td>9.088803</td>\n",
       "      <td>39.697817</td>\n",
       "      <td>2.226266</td>\n",
       "    </tr>\n",
       "    <tr>\n",
       "      <th>min</th>\n",
       "      <td>0.000000</td>\n",
       "      <td>0.000000</td>\n",
       "      <td>0.000000</td>\n",
       "      <td>1.0</td>\n",
       "      <td>1.0</td>\n",
       "      <td>0.000000</td>\n",
       "      <td>0.000000</td>\n",
       "      <td>0.000000</td>\n",
       "      <td>0.000000</td>\n",
       "      <td>0.000000</td>\n",
       "      <td>8.000000</td>\n",
       "      <td>0.000000</td>\n",
       "      <td>0.000000</td>\n",
       "      <td>0.000000</td>\n",
       "      <td>0.000000</td>\n",
       "      <td>0.000000</td>\n",
       "      <td>0.000000</td>\n",
       "      <td>0.000000</td>\n",
       "      <td>0.000000</td>\n",
       "    </tr>\n",
       "    <tr>\n",
       "      <th>25%</th>\n",
       "      <td>0.000000</td>\n",
       "      <td>2.000000</td>\n",
       "      <td>3.750000</td>\n",
       "      <td>1.0</td>\n",
       "      <td>1.0</td>\n",
       "      <td>0.000000</td>\n",
       "      <td>0.000000</td>\n",
       "      <td>1.000000</td>\n",
       "      <td>10.750000</td>\n",
       "      <td>3.000000</td>\n",
       "      <td>148.750000</td>\n",
       "      <td>3.000000</td>\n",
       "      <td>0.000000</td>\n",
       "      <td>1.000000</td>\n",
       "      <td>0.000000</td>\n",
       "      <td>0.000000</td>\n",
       "      <td>2.000000</td>\n",
       "      <td>9.500000</td>\n",
       "      <td>0.000000</td>\n",
       "    </tr>\n",
       "    <tr>\n",
       "      <th>50%</th>\n",
       "      <td>1.000000</td>\n",
       "      <td>10.500000</td>\n",
       "      <td>12.000000</td>\n",
       "      <td>1.0</td>\n",
       "      <td>1.0</td>\n",
       "      <td>4.000000</td>\n",
       "      <td>0.000000</td>\n",
       "      <td>3.000000</td>\n",
       "      <td>22.000000</td>\n",
       "      <td>7.000000</td>\n",
       "      <td>452.500000</td>\n",
       "      <td>11.000000</td>\n",
       "      <td>1.000000</td>\n",
       "      <td>4.500000</td>\n",
       "      <td>0.000000</td>\n",
       "      <td>1.000000</td>\n",
       "      <td>7.000000</td>\n",
       "      <td>19.500000</td>\n",
       "      <td>1.000000</td>\n",
       "    </tr>\n",
       "    <tr>\n",
       "      <th>75%</th>\n",
       "      <td>2.000000</td>\n",
       "      <td>19.250000</td>\n",
       "      <td>30.000000</td>\n",
       "      <td>1.0</td>\n",
       "      <td>1.0</td>\n",
       "      <td>10.000000</td>\n",
       "      <td>1.000000</td>\n",
       "      <td>6.250000</td>\n",
       "      <td>48.500000</td>\n",
       "      <td>17.250000</td>\n",
       "      <td>963.500000</td>\n",
       "      <td>27.000000</td>\n",
       "      <td>2.000000</td>\n",
       "      <td>7.000000</td>\n",
       "      <td>0.000000</td>\n",
       "      <td>1.000000</td>\n",
       "      <td>15.250000</td>\n",
       "      <td>45.000000</td>\n",
       "      <td>4.000000</td>\n",
       "    </tr>\n",
       "    <tr>\n",
       "      <th>max</th>\n",
       "      <td>5.000000</td>\n",
       "      <td>47.000000</td>\n",
       "      <td>89.000000</td>\n",
       "      <td>1.0</td>\n",
       "      <td>1.0</td>\n",
       "      <td>39.000000</td>\n",
       "      <td>3.000000</td>\n",
       "      <td>28.000000</td>\n",
       "      <td>129.000000</td>\n",
       "      <td>41.000000</td>\n",
       "      <td>3028.000000</td>\n",
       "      <td>115.000000</td>\n",
       "      <td>4.000000</td>\n",
       "      <td>19.000000</td>\n",
       "      <td>1.000000</td>\n",
       "      <td>2.000000</td>\n",
       "      <td>36.000000</td>\n",
       "      <td>163.000000</td>\n",
       "      <td>8.000000</td>\n",
       "    </tr>\n",
       "  </tbody>\n",
       "</table>\n",
       "</div>"
      ],
      "text/plain": [
       "           About  Add Friend  Add to Playlist  Cancel  \\\n",
       "count  52.000000   52.000000        52.000000    52.0   \n",
       "mean    1.076923   12.230769        19.961538     1.0   \n",
       "std     1.218262   11.157720        21.166901     0.0   \n",
       "min     0.000000    0.000000         0.000000     1.0   \n",
       "25%     0.000000    2.000000         3.750000     1.0   \n",
       "50%     1.000000   10.500000        12.000000     1.0   \n",
       "75%     2.000000   19.250000        30.000000     1.0   \n",
       "max     5.000000   47.000000        89.000000     1.0   \n",
       "\n",
       "       Cancellation Confirmation  Downgrade      Error       Help        Home  \\\n",
       "count                       52.0  52.000000  52.000000  52.000000   52.000000   \n",
       "mean                         1.0   6.480769   0.615385   4.596154   32.153846   \n",
       "std                          0.0   8.206861   0.843751   5.259015   29.368106   \n",
       "min                          1.0   0.000000   0.000000   0.000000    0.000000   \n",
       "25%                          1.0   0.000000   0.000000   1.000000   10.750000   \n",
       "50%                          1.0   4.000000   0.000000   3.000000   22.000000   \n",
       "75%                          1.0  10.000000   1.000000   6.250000   48.500000   \n",
       "max                          1.0  39.000000   3.000000  28.000000  129.000000   \n",
       "\n",
       "          Logout     NextSong  Roll Advert  Save Settings   Settings  \\\n",
       "count  52.000000    52.000000    52.000000      52.000000  52.000000   \n",
       "mean   10.634615   699.884615    18.596154       1.115385   5.192308   \n",
       "std     9.511662   714.737650    21.799676       1.231193   4.723900   \n",
       "min     0.000000     8.000000     0.000000       0.000000   0.000000   \n",
       "25%     3.000000   148.750000     3.000000       0.000000   1.000000   \n",
       "50%     7.000000   452.500000    11.000000       1.000000   4.500000   \n",
       "75%    17.250000   963.500000    27.000000       2.000000   7.000000   \n",
       "max    41.000000  3028.000000   115.000000       4.000000  19.000000   \n",
       "\n",
       "       Submit Downgrade  Submit Upgrade  Thumbs Down   Thumbs Up    Upgrade  \n",
       "count         52.000000       52.000000    52.000000   52.000000  52.000000  \n",
       "mean           0.173077        0.615385     9.538462   35.750000   2.153846  \n",
       "std            0.382005        0.599145     9.088803   39.697817   2.226266  \n",
       "min            0.000000        0.000000     0.000000    0.000000   0.000000  \n",
       "25%            0.000000        0.000000     2.000000    9.500000   0.000000  \n",
       "50%            0.000000        1.000000     7.000000   19.500000   1.000000  \n",
       "75%            0.000000        1.000000    15.250000   45.000000   4.000000  \n",
       "max            1.000000        2.000000    36.000000  163.000000   8.000000  "
      ]
     },
     "execution_count": 35,
     "metadata": {},
     "output_type": "execute_result"
    }
   ],
   "source": [
    "# Pandas Describe all columns for users who churned\n",
    "pandasPivot[pandasPivot[\"Cancellation Confirmation\"] == 1].describe()"
   ]
  },
  {
   "cell_type": "code",
   "execution_count": 36,
   "metadata": {},
   "outputs": [
    {
     "data": {
      "text/html": [
       "<div>\n",
       "<style>\n",
       "    .dataframe thead tr:only-child th {\n",
       "        text-align: right;\n",
       "    }\n",
       "\n",
       "    .dataframe thead th {\n",
       "        text-align: left;\n",
       "    }\n",
       "\n",
       "    .dataframe tbody tr th {\n",
       "        vertical-align: top;\n",
       "    }\n",
       "</style>\n",
       "<table border=\"1\" class=\"dataframe\">\n",
       "  <thead>\n",
       "    <tr style=\"text-align: right;\">\n",
       "      <th></th>\n",
       "      <th>About</th>\n",
       "      <th>Add Friend</th>\n",
       "      <th>Add to Playlist</th>\n",
       "      <th>Cancel</th>\n",
       "      <th>Cancellation Confirmation</th>\n",
       "      <th>Downgrade</th>\n",
       "      <th>Error</th>\n",
       "      <th>Help</th>\n",
       "      <th>Home</th>\n",
       "      <th>Logout</th>\n",
       "      <th>NextSong</th>\n",
       "      <th>Roll Advert</th>\n",
       "      <th>Save Settings</th>\n",
       "      <th>Settings</th>\n",
       "      <th>Submit Downgrade</th>\n",
       "      <th>Submit Upgrade</th>\n",
       "      <th>Thumbs Down</th>\n",
       "      <th>Thumbs Up</th>\n",
       "      <th>Upgrade</th>\n",
       "    </tr>\n",
       "  </thead>\n",
       "  <tbody>\n",
       "    <tr>\n",
       "      <th>count</th>\n",
       "      <td>173.000000</td>\n",
       "      <td>173.000000</td>\n",
       "      <td>173.000000</td>\n",
       "      <td>173.0</td>\n",
       "      <td>173.0</td>\n",
       "      <td>173.000000</td>\n",
       "      <td>173.000000</td>\n",
       "      <td>173.000000</td>\n",
       "      <td>173.000000</td>\n",
       "      <td>173.000000</td>\n",
       "      <td>173.000000</td>\n",
       "      <td>173.000000</td>\n",
       "      <td>173.000000</td>\n",
       "      <td>173.000000</td>\n",
       "      <td>173.000000</td>\n",
       "      <td>173.000000</td>\n",
       "      <td>173.000000</td>\n",
       "      <td>173.000000</td>\n",
       "      <td>173.000000</td>\n",
       "    </tr>\n",
       "    <tr>\n",
       "      <th>mean</th>\n",
       "      <td>2.537572</td>\n",
       "      <td>21.046243</td>\n",
       "      <td>31.722543</td>\n",
       "      <td>0.0</td>\n",
       "      <td>0.0</td>\n",
       "      <td>9.930636</td>\n",
       "      <td>1.271676</td>\n",
       "      <td>7.023121</td>\n",
       "      <td>48.612717</td>\n",
       "      <td>15.450867</td>\n",
       "      <td>1108.173410</td>\n",
       "      <td>17.144509</td>\n",
       "      <td>1.456647</td>\n",
       "      <td>7.190751</td>\n",
       "      <td>0.312139</td>\n",
       "      <td>0.734104</td>\n",
       "      <td>11.849711</td>\n",
       "      <td>61.803468</td>\n",
       "      <td>2.236994</td>\n",
       "    </tr>\n",
       "    <tr>\n",
       "      <th>std</th>\n",
       "      <td>3.426136</td>\n",
       "      <td>22.286667</td>\n",
       "      <td>35.056821</td>\n",
       "      <td>0.0</td>\n",
       "      <td>0.0</td>\n",
       "      <td>12.513520</td>\n",
       "      <td>1.585236</td>\n",
       "      <td>7.664441</td>\n",
       "      <td>50.936181</td>\n",
       "      <td>16.567837</td>\n",
       "      <td>1183.146703</td>\n",
       "      <td>21.527077</td>\n",
       "      <td>1.856674</td>\n",
       "      <td>7.481258</td>\n",
       "      <td>0.634037</td>\n",
       "      <td>0.769207</td>\n",
       "      <td>14.035274</td>\n",
       "      <td>70.416424</td>\n",
       "      <td>2.655932</td>\n",
       "    </tr>\n",
       "    <tr>\n",
       "      <th>min</th>\n",
       "      <td>0.000000</td>\n",
       "      <td>0.000000</td>\n",
       "      <td>0.000000</td>\n",
       "      <td>0.0</td>\n",
       "      <td>0.0</td>\n",
       "      <td>0.000000</td>\n",
       "      <td>0.000000</td>\n",
       "      <td>0.000000</td>\n",
       "      <td>0.000000</td>\n",
       "      <td>0.000000</td>\n",
       "      <td>3.000000</td>\n",
       "      <td>0.000000</td>\n",
       "      <td>0.000000</td>\n",
       "      <td>0.000000</td>\n",
       "      <td>0.000000</td>\n",
       "      <td>0.000000</td>\n",
       "      <td>0.000000</td>\n",
       "      <td>0.000000</td>\n",
       "      <td>0.000000</td>\n",
       "    </tr>\n",
       "    <tr>\n",
       "      <th>25%</th>\n",
       "      <td>0.000000</td>\n",
       "      <td>6.000000</td>\n",
       "      <td>7.000000</td>\n",
       "      <td>0.0</td>\n",
       "      <td>0.0</td>\n",
       "      <td>0.000000</td>\n",
       "      <td>0.000000</td>\n",
       "      <td>1.000000</td>\n",
       "      <td>14.000000</td>\n",
       "      <td>5.000000</td>\n",
       "      <td>251.000000</td>\n",
       "      <td>3.000000</td>\n",
       "      <td>0.000000</td>\n",
       "      <td>1.000000</td>\n",
       "      <td>0.000000</td>\n",
       "      <td>0.000000</td>\n",
       "      <td>2.000000</td>\n",
       "      <td>14.000000</td>\n",
       "      <td>1.000000</td>\n",
       "    </tr>\n",
       "    <tr>\n",
       "      <th>50%</th>\n",
       "      <td>1.000000</td>\n",
       "      <td>16.000000</td>\n",
       "      <td>21.000000</td>\n",
       "      <td>0.0</td>\n",
       "      <td>0.0</td>\n",
       "      <td>6.000000</td>\n",
       "      <td>1.000000</td>\n",
       "      <td>5.000000</td>\n",
       "      <td>35.000000</td>\n",
       "      <td>11.000000</td>\n",
       "      <td>747.000000</td>\n",
       "      <td>11.000000</td>\n",
       "      <td>1.000000</td>\n",
       "      <td>5.000000</td>\n",
       "      <td>0.000000</td>\n",
       "      <td>1.000000</td>\n",
       "      <td>8.000000</td>\n",
       "      <td>41.000000</td>\n",
       "      <td>1.000000</td>\n",
       "    </tr>\n",
       "    <tr>\n",
       "      <th>75%</th>\n",
       "      <td>3.000000</td>\n",
       "      <td>28.000000</td>\n",
       "      <td>50.000000</td>\n",
       "      <td>0.0</td>\n",
       "      <td>0.0</td>\n",
       "      <td>15.000000</td>\n",
       "      <td>2.000000</td>\n",
       "      <td>9.000000</td>\n",
       "      <td>69.000000</td>\n",
       "      <td>20.000000</td>\n",
       "      <td>1640.000000</td>\n",
       "      <td>21.000000</td>\n",
       "      <td>2.000000</td>\n",
       "      <td>11.000000</td>\n",
       "      <td>0.000000</td>\n",
       "      <td>1.000000</td>\n",
       "      <td>17.000000</td>\n",
       "      <td>84.000000</td>\n",
       "      <td>3.000000</td>\n",
       "    </tr>\n",
       "    <tr>\n",
       "      <th>max</th>\n",
       "      <td>25.000000</td>\n",
       "      <td>143.000000</td>\n",
       "      <td>240.000000</td>\n",
       "      <td>0.0</td>\n",
       "      <td>0.0</td>\n",
       "      <td>73.000000</td>\n",
       "      <td>7.000000</td>\n",
       "      <td>46.000000</td>\n",
       "      <td>355.000000</td>\n",
       "      <td>124.000000</td>\n",
       "      <td>8002.000000</td>\n",
       "      <td>128.000000</td>\n",
       "      <td>10.000000</td>\n",
       "      <td>52.000000</td>\n",
       "      <td>3.000000</td>\n",
       "      <td>4.000000</td>\n",
       "      <td>75.000000</td>\n",
       "      <td>437.000000</td>\n",
       "      <td>15.000000</td>\n",
       "    </tr>\n",
       "  </tbody>\n",
       "</table>\n",
       "</div>"
      ],
      "text/plain": [
       "            About  Add Friend  Add to Playlist  Cancel  \\\n",
       "count  173.000000  173.000000       173.000000   173.0   \n",
       "mean     2.537572   21.046243        31.722543     0.0   \n",
       "std      3.426136   22.286667        35.056821     0.0   \n",
       "min      0.000000    0.000000         0.000000     0.0   \n",
       "25%      0.000000    6.000000         7.000000     0.0   \n",
       "50%      1.000000   16.000000        21.000000     0.0   \n",
       "75%      3.000000   28.000000        50.000000     0.0   \n",
       "max     25.000000  143.000000       240.000000     0.0   \n",
       "\n",
       "       Cancellation Confirmation   Downgrade       Error        Help  \\\n",
       "count                      173.0  173.000000  173.000000  173.000000   \n",
       "mean                         0.0    9.930636    1.271676    7.023121   \n",
       "std                          0.0   12.513520    1.585236    7.664441   \n",
       "min                          0.0    0.000000    0.000000    0.000000   \n",
       "25%                          0.0    0.000000    0.000000    1.000000   \n",
       "50%                          0.0    6.000000    1.000000    5.000000   \n",
       "75%                          0.0   15.000000    2.000000    9.000000   \n",
       "max                          0.0   73.000000    7.000000   46.000000   \n",
       "\n",
       "             Home      Logout     NextSong  Roll Advert  Save Settings  \\\n",
       "count  173.000000  173.000000   173.000000   173.000000     173.000000   \n",
       "mean    48.612717   15.450867  1108.173410    17.144509       1.456647   \n",
       "std     50.936181   16.567837  1183.146703    21.527077       1.856674   \n",
       "min      0.000000    0.000000     3.000000     0.000000       0.000000   \n",
       "25%     14.000000    5.000000   251.000000     3.000000       0.000000   \n",
       "50%     35.000000   11.000000   747.000000    11.000000       1.000000   \n",
       "75%     69.000000   20.000000  1640.000000    21.000000       2.000000   \n",
       "max    355.000000  124.000000  8002.000000   128.000000      10.000000   \n",
       "\n",
       "         Settings  Submit Downgrade  Submit Upgrade  Thumbs Down   Thumbs Up  \\\n",
       "count  173.000000        173.000000      173.000000   173.000000  173.000000   \n",
       "mean     7.190751          0.312139        0.734104    11.849711   61.803468   \n",
       "std      7.481258          0.634037        0.769207    14.035274   70.416424   \n",
       "min      0.000000          0.000000        0.000000     0.000000    0.000000   \n",
       "25%      1.000000          0.000000        0.000000     2.000000   14.000000   \n",
       "50%      5.000000          0.000000        1.000000     8.000000   41.000000   \n",
       "75%     11.000000          0.000000        1.000000    17.000000   84.000000   \n",
       "max     52.000000          3.000000        4.000000    75.000000  437.000000   \n",
       "\n",
       "          Upgrade  \n",
       "count  173.000000  \n",
       "mean     2.236994  \n",
       "std      2.655932  \n",
       "min      0.000000  \n",
       "25%      1.000000  \n",
       "50%      1.000000  \n",
       "75%      3.000000  \n",
       "max     15.000000  "
      ]
     },
     "execution_count": 36,
     "metadata": {},
     "output_type": "execute_result"
    }
   ],
   "source": [
    "# Pandas Describe all columns for users who did not churn\n",
    "pandasPivot[pandasPivot[\"Cancellation Confirmation\"] == 0].describe()"
   ]
  },
  {
   "cell_type": "code",
   "execution_count": 121,
   "metadata": {},
   "outputs": [],
   "source": [
    "pandasPivot = pandasPivot.rename(columns={\"Cancellation Confirmation\": \"Churn\"})"
   ]
  },
  {
   "cell_type": "code",
   "execution_count": 135,
   "metadata": {},
   "outputs": [
    {
     "name": "stderr",
     "output_type": "stream",
     "text": [
      "/opt/conda/lib/python3.6/site-packages/numpy/core/fromnumeric.py:57: FutureWarning: reshape is deprecated and will raise in a subsequent release. Please use .values.reshape(...) instead\n",
      "  return getattr(obj, method)(*args, **kwds)\n"
     ]
    },
    {
     "data": {
      "image/png": "[encoded data removed]",
      "text/plain": [
       "<matplotlib.figure.Figure at 0x7f3efb6786d8>"
      ]
     },
     "metadata": {
      "needs_background": "light"
     },
     "output_type": "display_data"
    }
   ],
   "source": [
    "# As the statistic describtions of the two sets of data can be hard to comapare when looking at numbers, the boxplots of each of the columns is created\n",
    "import matplotlib.pyplot as plt\n",
    "\n",
    "fig = plt.figure(figsize=(12, 20))\n",
    "\n",
    "for i in range(1,19):\n",
    "    ax = fig.add_subplot(4,5,i)\n",
    "    pandasPivot.boxplot(pandasPivot.columns[i].format(), ax=ax, grid=False,  by='Churn', showfliers=False);"
   ]
  },
  {
   "cell_type": "markdown",
   "metadata": {},
   "source": [
    "## Conclusion\n",
    "\n",
    "Visual inspection of the above graph shows that the folling features have the largest differnece in their boxplots. Thereforee, these will be used as the bases for our feature selection.\n",
    "\n",
    "- Visits to the about page\n",
    "- Adding friends\n",
    "- Adding to playlist\n",
    "- Visiting the help page\n",
    "- Visiting the Home Page\n",
    "- Playing a song\n",
    "- Viewing the Settings page\n",
    "- Giving Thums Up\n",
    "- Upgrading"
   ]
  },
  {
   "cell_type": "markdown",
   "metadata": {},
   "source": [
    "# Feature Engineering\n",
    "\n",
    "Now that the features have been explored, it is time to extract the features. \n",
    "\n",
    "The pivot table above actually does give a very decent first version of a feature vector\n",
    "\n",
    "Two version of features are used. For the first version, the events from the pivot table are used.\n",
    "\n",
    "For the second version, the number of sessions, and the amount of days since a users first and last event are also used."
   ]
  },
  {
   "cell_type": "code",
   "execution_count": 44,
   "metadata": {},
   "outputs": [],
   "source": [
    "# V1 - A pivot table of the amount of events per user\n",
    "featureDf = df.groupby([\"userId\"]).pivot(\"page\").count().na.fill(0)\n",
    "\n",
    "# Join in churn as label\n",
    "featureDf = featureDf.withColumn(\"label\", featureDf[\"Cancellation Confirmation\"])"
   ]
  },
  {
   "cell_type": "code",
   "execution_count": 45,
   "metadata": {},
   "outputs": [],
   "source": [
    "# V2 - Adding days and sessions "
   ]
  },
  {
   "cell_type": "code",
   "execution_count": 46,
   "metadata": {},
   "outputs": [],
   "source": [
    "# Create days Df \n",
    "minDf = df.select([\"userId\", \"ts\"]).groupby(\"userId\").min(\"ts\")\n",
    "maxDf = df.select([\"userId\", \"ts\"]).groupby(\"userId\").max(\"ts\")\n",
    "daysCount = minDf.join(maxDf, on=\"userId\").withColumn(\"days\", (col(\"max(ts)\")-col(\"min(ts)\")) / (1000*60*60*24)).select([\"userId\", \"days\"])\n",
    "\n",
    "# Join in days count\n",
    "featureDf = featureDf.join(daysCount,on=\"userId\")"
   ]
  },
  {
   "cell_type": "code",
   "execution_count": 47,
   "metadata": {},
   "outputs": [],
   "source": [
    "# Create sessions Df \n",
    "sessionCount = df.select([\"userId\", \"sessionId\"]).drop_duplicates()\\\n",
    ".groupby(\"userId\").count().withColumnRenamed(\"count\", \"sessions\")\n",
    "\n",
    "# Join in session count\n",
    "featureDf = featureDf.join(sessionCount,on=\"userId\")"
   ]
  },
  {
   "cell_type": "code",
   "execution_count": 48,
   "metadata": {},
   "outputs": [
    {
     "data": {
      "text/plain": [
       "[Row(userId='100010', About=1, Add Friend=4, Add to Playlist=7, Cancel=0, Cancellation Confirmation=0, Downgrade=0, Error=0, Help=2, Home=11, Logout=5, NextSong=275, Roll Advert=52, Save Settings=0, Settings=0, Submit Downgrade=0, Submit Upgrade=0, Thumbs Down=5, Thumbs Up=17, Upgrade=2, label=0, days=44.21780092592593, sessions=7)]"
      ]
     },
     "execution_count": 48,
     "metadata": {},
     "output_type": "execute_result"
    }
   ],
   "source": [
    "featureDf.take(1)"
   ]
  },
  {
   "cell_type": "markdown",
   "metadata": {},
   "source": [
    "# Training and Evaluation\n",
    "\n",
    "The features have now been defined and the dataset is ready.\n",
    "\n",
    "The training will be performed using pipelines, as they give great flexibility in switching out different parts of the pipeline, and it enables easy parameter tuning.\n",
    "\n",
    "When working in this workspace, the data will be split into a training and test set, which will allow us to experiment with differnet models, and ensure that all of the spark commands work as expected.\n",
    "\n",
    "When workign with the large datast in the cluster, an additional validation set will be created, which will be used to calculate the performance of the final model.\n",
    "\n",
    "For this specific model, the F1 score is used as the performance indicator. The dataset is skewed towards non-churning users, and as such, a hugh accuracy can easily be achived by guessing that no-one will churn. The F1 score add a penalty to this kind of behaviour."
   ]
  },
  {
   "cell_type": "code",
   "execution_count": 58,
   "metadata": {},
   "outputs": [],
   "source": [
    "# Defining Evaluation function\n",
    "f1Evaluator = MulticlassClassificationEvaluator(metricName=\"f1\")\n",
    "\n",
    "def EvaluatePredictions(predictions):\n",
    "    '''\n",
    "    input - predictions a spark dataframe with a \"label\" and \"prediction column\"\n",
    "    output - prints a F1 evaluation score and a confusion matrix for the prediction results\n",
    "    '''\n",
    "    print(f\"F1: {f1Evaluator.evaluate(predictions)}\")\n",
    "    \n",
    "    print(\"Confusion Matrix:\")\n",
    "    predictions.groupby(\"label\").pivot(\"prediction\").count().show()"
   ]
  },
  {
   "cell_type": "code",
   "execution_count": 51,
   "metadata": {},
   "outputs": [],
   "source": [
    "# Split data into train and test set\n",
    "training, test = featureDf.randomSplit([0.8, 0.2])"
   ]
  },
  {
   "cell_type": "code",
   "execution_count": 53,
   "metadata": {},
   "outputs": [],
   "source": [
    "# Construct Pipeline\n",
    "\n",
    "# Create vector from feature data\n",
    "a = VectorAssembler(inputCols=[\"sessions\", \"days\", \"About\", \"Add Friend\", \"Add to Playlist\", \"Help\", \"Home\", \"NextSong\", \"Settings\", \"Thumbs Up\", \"Upgrade\"], outputCol=\"Features\")\n",
    "\n",
    "# Scale each column using MinMaxScaler\n",
    "s = MinMaxScaler(inputCol=\"Features\", outputCol=\"ScaledFeatures\")\n",
    "\n",
    "# Select a classifier \n",
    "rf = GBTClassifier(featuresCol=\"ScaledFeatures\")\n",
    "#rf = RandomForestClassifier(featuresCol=\"ScaledFeatures\")\n",
    "#rf = LinearSVC(featuresCol=\"ScaledFeatures\")\n",
    "\n",
    "# Consturct pipeline\n",
    "pipeline = Pipeline(stages=[a, s, rf])"
   ]
  },
  {
   "cell_type": "code",
   "execution_count": 55,
   "metadata": {},
   "outputs": [],
   "source": [
    "# Fit pipeline on training data\n",
    "pipeModel = pipeline.fit(training)"
   ]
  },
  {
   "cell_type": "code",
   "execution_count": 56,
   "metadata": {},
   "outputs": [
    {
     "name": "stdout",
     "output_type": "stream",
     "text": [
      "F1: 1.0\n",
      "Confusion Matrix:\n",
      "+-----+----+----+\n",
      "|label| 0.0| 1.0|\n",
      "+-----+----+----+\n",
      "|    0| 138|null|\n",
      "|    1|null|  42|\n",
      "+-----+----+----+\n",
      "\n"
     ]
    }
   ],
   "source": [
    "# Calculate predictions and evaluate model on predicted data data\n",
    "predictions = pipeModel.transform(training)\n",
    "EvaluatePredictions(predictions)"
   ]
  },
  {
   "cell_type": "code",
   "execution_count": 57,
   "metadata": {},
   "outputs": [
    {
     "name": "stdout",
     "output_type": "stream",
     "text": [
      "F1: 0.7660249477251425\n",
      "Confusion Matrix:\n",
      "+-----+---+---+\n",
      "|label|0.0|1.0|\n",
      "+-----+---+---+\n",
      "|    0| 28|  7|\n",
      "|    1|  4|  6|\n",
      "+-----+---+---+\n",
      "\n"
     ]
    }
   ],
   "source": [
    "tPredictions = pipeModel.transform(test)\n",
    "EvaluatePredictions(tPredictions)"
   ]
  },
  {
   "cell_type": "markdown",
   "metadata": {},
   "source": [
    "# Results\n",
    "\n",
    "The above steps works as a Proof of concept for the steps that should be performed the full dataset in the cluster. \n",
    "\n",
    "Preliminary results on this tiny dataset shows that the GBTClassifier has the best performance, but the testset is so small, that it is very hard to conclude anything. \n",
    "\n",
    "For the results of the final tuning, have a look at the results part of the readme"
   ]
  }
 ],
 "metadata": {
  "kernelspec": {
   "display_name": "Python 3",
   "language": "python",
   "name": "python3"
  },
  "language_info": {
   "codemirror_mode": {
    "name": "ipython",
    "version": 3
   },
   "file_extension": ".py",
   "mimetype": "text/x-python",
   "name": "python",
   "nbconvert_exporter": "python",
   "pygments_lexer": "ipython3",
   "version": "3.6.3"
  }
 },
 "nbformat": 4,
 "nbformat_minor": 2
}
